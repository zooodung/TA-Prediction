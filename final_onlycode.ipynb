{
  "cells": [
    {
      "cell_type": "markdown",
      "metadata": {
        "id": "view-in-github",
        "colab_type": "text"
      },
      "source": [
        "<a href=\"https://colab.research.google.com/github/zooodung/TA-Prediction/blob/main/final_onlycode.ipynb\" target=\"_parent\"><img src=\"https://colab.research.google.com/assets/colab-badge.svg\" alt=\"Open In Colab\"/></a>"
      ]
    },
    {
      "cell_type": "markdown",
      "metadata": {
        "id": "DQuJOLRx7kBx"
      },
      "source": [
        "# 교통사고 위험도 예측"
      ]
    },
    {
      "cell_type": "markdown",
      "metadata": {
        "id": "hr1s4yXY7foG"
      },
      "source": [
        "## 라이브러리 및 파일 호출"
      ]
    },
    {
      "cell_type": "code",
      "execution_count": null,
      "metadata": {
        "id": "6JicvqUv8zIS"
      },
      "outputs": [],
      "source": [
        "!pip install pytimekr"
      ]
    },
    {
      "cell_type": "code",
      "execution_count": null,
      "metadata": {
        "id": "46G7zWOVUbYm"
      },
      "outputs": [],
      "source": [
        "import pandas as pd\n",
        "import numpy as np\n",
        "import matplotlib.pyplot as plt\n",
        "import seaborn as sns\n",
        "from pytimekr import pytimekr\n",
        "from sklearn.preprocessing import LabelEncoder\n",
        "import os"
      ]
    },
    {
      "cell_type": "code",
      "execution_count": null,
      "metadata": {
        "id": "Ef7f-nY5Lmk-"
      },
      "outputs": [],
      "source": [
        "path='/content/drive/MyDrive/camp/project1/open/'"
      ]
    },
    {
      "cell_type": "code",
      "execution_count": null,
      "metadata": {
        "id": "dFRVyxWT9Hgr"
      },
      "outputs": [],
      "source": [
        "from google.colab import drive\n",
        "drive.mount('/content/drive')"
      ]
    },
    {
      "cell_type": "code",
      "execution_count": null,
      "metadata": {
        "id": "uqaZSfrqV-6_"
      },
      "outputs": [],
      "source": [
        "daegu_data=pd.read_csv(path+'train.csv')\n",
        "wide_data=pd.read_csv(path+'external_open/countrywide_accident.csv')\n",
        "test_data=pd.read_csv(path+'test.csv')\n",
        "daegu_data.head()"
      ]
    },
    {
      "cell_type": "markdown",
      "metadata": {
        "id": "pvSPi6jk7nX5"
      },
      "source": [
        "## 기초 통계 분석"
      ]
    },
    {
      "cell_type": "code",
      "execution_count": null,
      "metadata": {
        "id": "Ki2l3dCcvAmR"
      },
      "outputs": [],
      "source": [
        "#ta_data_daegu.info()"
      ]
    },
    {
      "cell_type": "code",
      "execution_count": null,
      "metadata": {
        "id": "1E97gtAMKA6m"
      },
      "outputs": [],
      "source": [
        "#x_test.info()"
      ]
    },
    {
      "cell_type": "code",
      "execution_count": null,
      "metadata": {
        "id": "6rWIHjSA7sYV"
      },
      "outputs": [],
      "source": [
        "#ta_data_daegu.describe()"
      ]
    },
    {
      "cell_type": "code",
      "execution_count": null,
      "metadata": {
        "id": "XbqTnvw-JdHs"
      },
      "outputs": [],
      "source": [
        "#ta_data_daegu.describe()"
      ]
    },
    {
      "cell_type": "code",
      "execution_count": null,
      "metadata": {
        "id": "V3NWfDoqHzeL"
      },
      "outputs": [],
      "source": [
        "#columns = ['요일', '기상상태', '도로형태', '노면상태', '사고유형']\n",
        "\n",
        "#for column in columns:\n",
        "#    print(f\"Column: {column}\")\n",
        "#    print(ta_data_daegu[column].value_counts())\n",
        "#    print(\"-\" * 30)"
      ]
    },
    {
      "cell_type": "markdown",
      "metadata": {
        "id": "dvNl3tcK9zhG"
      },
      "source": [
        "## 전처리"
      ]
    },
    {
      "cell_type": "markdown",
      "metadata": {
        "id": "TIkV3fBpbI9Y"
      },
      "source": [
        "### 대구 데이터 전처리"
      ]
    },
    {
      "cell_type": "markdown",
      "metadata": {
        "id": "OcfCQJ-r91oV"
      },
      "source": [
        "#### 불필요한 컬럼 제거"
      ]
    },
    {
      "cell_type": "code",
      "execution_count": null,
      "metadata": {
        "id": "ut9kTR5JKIBN"
      },
      "outputs": [],
      "source": [
        "columns_to_drop = ['ID', '사고유형 - 세부분류', '법규위반', '가해운전자 차종', '가해운전자 성별', '가해운전자 연령',\n",
        "                   '가해운전자 상해정도', '피해운전자 차종', '피해운전자 성별', '피해운전자 연령', '피해운전자 상해정도']\n",
        "\n",
        "\n",
        "daegu=daegu_data.drop(columns=columns_to_drop)"
      ]
    },
    {
      "cell_type": "markdown",
      "metadata": {
        "id": "7ebJ3pr4-GsX"
      },
      "source": [
        "#### 사고일시 컬럼 연도, 월, 일, 시간 단위로 분할"
      ]
    },
    {
      "cell_type": "code",
      "execution_count": null,
      "metadata": {
        "id": "qyN8xpNTxh5S"
      },
      "outputs": [],
      "source": [
        "#daegu[['년도','월','일+시간']] = daegu['사고일시'].str.split('-',expand=True)\n",
        "#daegu[['일','시간']]= daegu['일+시간'].str.split(' ',expand=True)\n",
        "\n",
        "#daegu.drop(['일+시간','사고일시'],inplace=True, axis=1)\n",
        "#daegu.drop(['일'],inplace=True, axis=1)"
      ]
    },
    {
      "cell_type": "markdown",
      "metadata": {
        "id": "17KY4M65ZTYf"
      },
      "source": [
        "#### 시군구 단위로 분할"
      ]
    },
    {
      "cell_type": "code",
      "execution_count": null,
      "metadata": {
        "id": "9bb7xKVrZS0O"
      },
      "outputs": [],
      "source": [
        "daegu[['시','구','동']] = daegu['시군구'].str.split(' ',expand=True)\n",
        "daegu.drop(['시군구'],inplace=True, axis=1)"
      ]
    },
    {
      "cell_type": "markdown",
      "metadata": {
        "id": "RkyxSnYCZlKK"
      },
      "source": [
        "#### 도로 형태 분할"
      ]
    },
    {
      "cell_type": "code",
      "execution_count": null,
      "metadata": {
        "id": "0DRyb-LQZkkx"
      },
      "outputs": [],
      "source": [
        "daegu[['도로형태1', '도로형태2']] = daegu['도로형태'].str.split(' - ', expand=True)\n",
        "daegu.drop(['도로형태'],inplace=True, axis=1)"
      ]
    },
    {
      "cell_type": "code",
      "execution_count": null,
      "metadata": {
        "id": "rUSwu_ooZsyB"
      },
      "outputs": [],
      "source": [
        "daegu.head()"
      ]
    },
    {
      "cell_type": "markdown",
      "metadata": {
        "id": "3X4qmuPh-M0z"
      },
      "source": [
        "#### 요일 컬럼 평일과 주말로 분류"
      ]
    },
    {
      "cell_type": "code",
      "execution_count": null,
      "metadata": {
        "id": "3JYDt1MP80pt"
      },
      "outputs": [],
      "source": [
        "#ta_data_daegu['요일 분류'] = ta_data_daegu['요일'].apply(lambda x: '평일' if x in ['월요일', '화요일', '수요일', '목요일', '금요일'] else '주말')"
      ]
    },
    {
      "cell_type": "code",
      "execution_count": null,
      "metadata": {
        "id": "CURfLGyR7pW2"
      },
      "outputs": [],
      "source": [
        "#ta_data_daegu"
      ]
    },
    {
      "cell_type": "markdown",
      "metadata": {
        "id": "nz4iO10qa7Cm"
      },
      "source": [
        "### 전국 데이터 전처리"
      ]
    },
    {
      "cell_type": "code",
      "execution_count": null,
      "metadata": {
        "id": "oeeGQZ0Ga6VX"
      },
      "outputs": [],
      "source": [
        "wide=wide_data.copy()\n",
        "len(wide)"
      ]
    },
    {
      "cell_type": "markdown",
      "metadata": {
        "id": "-ILRmM3fbEt3"
      },
      "source": [
        "#### 철길 건널목 제거"
      ]
    },
    {
      "cell_type": "code",
      "execution_count": null,
      "metadata": {
        "id": "Km3wux5zbCEU"
      },
      "outputs": [],
      "source": [
        "wide = wide[~wide['도로형태'].str.split().str[-1].str.contains('철길건널목')]"
      ]
    },
    {
      "cell_type": "markdown",
      "metadata": {
        "id": "4EI_5YRCbN9r"
      },
      "source": [
        "#### 불필요한 컬럼 제거"
      ]
    },
    {
      "cell_type": "code",
      "execution_count": null,
      "metadata": {
        "id": "e7bEdTB7bONF"
      },
      "outputs": [],
      "source": [
        "wide=wide.drop(columns=columns_to_drop)"
      ]
    },
    {
      "cell_type": "markdown",
      "metadata": {
        "id": "T63YNdAdbTJQ"
      },
      "source": [
        "#### 광역시, 특별시만 분류"
      ]
    },
    {
      "cell_type": "code",
      "execution_count": null,
      "metadata": {
        "id": "0CT0MHnibSnR"
      },
      "outputs": [],
      "source": [
        "def contains_specific_location(address):\n",
        "    cities = ['서울특별시', '인천광역시', '부산광역시', '울산광역시', '광주광역시', '대전광역시']\n",
        "    for city in cities:\n",
        "        if city in address:\n",
        "            return True\n",
        "    return False\n",
        "wide=wide[wide['시군구'].apply(contains_specific_location)]\n",
        "\n",
        "wide[['시','구','동']] = wide['시군구'].str.split(' ',expand=True)"
      ]
    },
    {
      "cell_type": "code",
      "execution_count": null,
      "metadata": {
        "id": "rhBMUyS6bcoH"
      },
      "outputs": [],
      "source": [
        "wide['시군구'].apply(lambda x:x.split()[0]).value_counts()"
      ]
    },
    {
      "cell_type": "code",
      "execution_count": null,
      "metadata": {
        "id": "vgodFJrHcqh3"
      },
      "outputs": [],
      "source": [
        "wide.drop(['시군구'],inplace=True, axis=1)"
      ]
    },
    {
      "cell_type": "markdown",
      "metadata": {
        "id": "JO-rWjzDbhKK"
      },
      "source": [
        "#### 연도, 월, 일, 시간 분류"
      ]
    },
    {
      "cell_type": "code",
      "execution_count": null,
      "metadata": {
        "id": "IgmeohwzbhQf"
      },
      "outputs": [],
      "source": [
        "#wide[['년도','월','일+시간']] = wide['사고일시'].str.split('-',expand=True)\n",
        "#wide[['일','시간']]= wide['일+시간'].str.split(' ',expand=True)\n",
        "\n",
        "#wide.drop(['일+시간','사고일시'],inplace=True, axis=1)\n",
        "#wide.drop(['일'],inplace=True, axis=1)"
      ]
    },
    {
      "cell_type": "markdown",
      "metadata": {
        "id": "72pqhXqvbth2"
      },
      "source": [
        "#### 도로 형태 분류"
      ]
    },
    {
      "cell_type": "code",
      "execution_count": null,
      "metadata": {
        "id": "ERkG4dIXbtqr"
      },
      "outputs": [],
      "source": [
        "wide[['도로형태1', '도로형태2']] = wide['도로형태'].str.split(' - ', expand=True)\n",
        "\n",
        "wide.drop(['도로형태'],inplace=True, axis=1)"
      ]
    },
    {
      "cell_type": "code",
      "execution_count": null,
      "metadata": {
        "id": "cYEXzIi-b4Qt"
      },
      "outputs": [],
      "source": [
        "wide.head()"
      ]
    },
    {
      "cell_type": "markdown",
      "metadata": {
        "id": "CLi99pHob-mh"
      },
      "source": [
        "### 데이터 병합 후 전처리 진행"
      ]
    },
    {
      "cell_type": "code",
      "execution_count": null,
      "metadata": {
        "id": "X1Jeisk5Xy_s"
      },
      "outputs": [],
      "source": [
        "print(len(daegu),len(wide), len(daegu)+len(wide))"
      ]
    },
    {
      "cell_type": "code",
      "execution_count": null,
      "metadata": {
        "id": "sVI-bSTvb8xR"
      },
      "outputs": [],
      "source": [
        "concatenated_df = pd.concat([daegu, wide])\n",
        "concatenated_df"
      ]
    },
    {
      "cell_type": "markdown",
      "metadata": {
        "id": "PCAiPVhbVN7A"
      },
      "source": [
        "#### 휴일 여부"
      ]
    },
    {
      "cell_type": "code",
      "execution_count": null,
      "metadata": {
        "id": "WfFvwh9SVNDQ"
      },
      "outputs": [],
      "source": [
        "for i in range(2019, 2024):\n",
        "    kr_holidays = pytimekr.holidays(i)\n",
        "    print(kr_holidays)"
      ]
    },
    {
      "cell_type": "code",
      "execution_count": null,
      "metadata": {
        "id": "uEghBkBzZCNW"
      },
      "outputs": [],
      "source": [
        "kr_holidays = ['2019-01-01', '2019-02-04', '2019-02-05', '2019-02-06', '2019-03-01', '2019-05-05', '2019-05-12', '2019-06-06', '2019-08-15', '2019-09-12', '2019-09-13', '2019-09-14', '2019-10-03', '2019-10-09', '2019-12-25',\n",
        "                '2020-01-01' ,'2020-01-24' ,'2020-01-25', '2020-01-26', '2020-03-01', '2020-04-30', '2020-05-05', '2020-06-06', '2020-08-15', '2020-08-17', '2020-09-30', '2020-10-01', '2020-10-02', '2020-10-03', '2020-10-09', '2020-12-25',\n",
        "                '2021-01-01' ,'2021-02-11' ,'2021-02-12', '2021-02-13', '2021-03-01', '2021-05-05', '2021-05-19', '2021-06-06', '2021-08-15', '2021-09-20', '2021-09-21', '2021-09-22', '2021-10-03', '2021-10-09', '2021-12-25',\n",
        "                '2022-01-01' ,'2022-01-31' ,'2022-02-01', '2022-02-02', '2022-03-01', '2022-05-05', '2022-05-08', '2022-06-06', '2022-08-15', '2022-09-09', '2022-09-10', '2022-09-11', '2022-09-12', '2022-10-03', '2022-10-09', '2020-10-10', '2022-12-25',\n",
        "                '2023-01-01' ,'2023-01-21' ,'2023-01-22', '2023-01-23', '2023-01-24', '2023-03-01', '2023-05-05', '2023-05-26', '2023-06-06', '2023-08-15', '2023-09-28', '2023-09-29', '2023-09-30', '2023-10-03', '2023-10-09', '2023-12-25']\n"
      ]
    },
    {
      "cell_type": "code",
      "execution_count": null,
      "metadata": {
        "id": "7zKDlmwnVd5G"
      },
      "outputs": [],
      "source": [
        "concatenated_df['사고일시'] = pd.to_datetime(concatenated_df['사고일시'])\n",
        "\n",
        "# datetime에서 year, month, day, hour 추출하여 새로운 열 생성\n",
        "concatenated_df['년도'] = concatenated_df['사고일시'].dt.year\n",
        "concatenated_df['월'] = concatenated_df['사고일시'].dt.month\n",
        "concatenated_df['day'] = concatenated_df['사고일시'].dt.day\n",
        "concatenated_df['시간'] = concatenated_df['사고일시'].dt.hour\n",
        "concatenated_df['day_of_week'] = concatenated_df['사고일시'].dt.dayofweek"
      ]
    },
    {
      "cell_type": "code",
      "execution_count": null,
      "metadata": {
        "id": "8uVv_Sc-VjyA"
      },
      "outputs": [],
      "source": [
        "concatenated_df['holiday'] = np.where((concatenated_df.day_of_week >= 5) | (concatenated_df.사고일시.dt.strftime('%Y-%m-%d').isin(kr_holidays)), '휴일', '평일')"
      ]
    },
    {
      "cell_type": "code",
      "execution_count": null,
      "metadata": {
        "id": "mRl4OFf0Vs37"
      },
      "outputs": [],
      "source": [
        "concatenated_df.drop(columns=['사고일시'], inplace=True)"
      ]
    },
    {
      "cell_type": "code",
      "execution_count": null,
      "metadata": {
        "id": "siWOXp7zWKWI"
      },
      "outputs": [],
      "source": [
        "concatenated_df['holiday'].value_counts()"
      ]
    },
    {
      "cell_type": "code",
      "execution_count": null,
      "metadata": {
        "id": "M4QJYEjuYIiN"
      },
      "outputs": [],
      "source": [
        "concatenated_df.drop(['day', 'day_of_week'], inplace=True, axis=1)"
      ]
    },
    {
      "cell_type": "markdown",
      "metadata": {
        "id": "dCOFTCQacAsO"
      },
      "source": [
        "#### 주말 여부"
      ]
    },
    {
      "cell_type": "code",
      "execution_count": null,
      "metadata": {
        "id": "Fry9UFPkcAzE"
      },
      "outputs": [],
      "source": [
        "#concatenated_df['주말여부']=concatenated_df['요일'].apply(lambda x:'주말' if x in ['토요일','일요일'] else '평일')\n",
        "\n",
        "#concatenated_df['주말여부'].value_counts()"
      ]
    },
    {
      "cell_type": "markdown",
      "metadata": {
        "id": "kXdbSzY6cUKQ"
      },
      "source": [
        "#### 시간 분류"
      ]
    },
    {
      "cell_type": "code",
      "execution_count": null,
      "metadata": {
        "id": "pjiIx41ccTo_"
      },
      "outputs": [],
      "source": [
        "def seperate_time(time): #심야, 새벽, 오전, 오후, 저녁, 야간 ->4시간단위\n",
        "    if 0<=int(time)<4:\n",
        "        return '심야'\n",
        "    elif int(time)<8:\n",
        "        return '새벽'\n",
        "    elif int(time)<12:\n",
        "        return '오전'\n",
        "    elif int(time)<16:\n",
        "        return '오후'\n",
        "    elif int(time)<20:\n",
        "        return '저녁'\n",
        "    else:\n",
        "        return '야간'\n",
        "concatenated_df['시간구분']=concatenated_df['시간'].apply(seperate_time)\n",
        "print(concatenated_df['시간구분'].value_counts().sum())\n",
        "concatenated_df['시간구분'].value_counts()"
      ]
    },
    {
      "cell_type": "markdown",
      "metadata": {
        "id": "1UOpu92acbGK"
      },
      "source": [
        "#### 계절 분류"
      ]
    },
    {
      "cell_type": "code",
      "execution_count": null,
      "metadata": {
        "id": "Q8shchXbcbLr"
      },
      "outputs": [],
      "source": [
        "def seperate_month(month):\n",
        "    if int(month) in [12,1,2]:\n",
        "        return '겨울'\n",
        "    elif int(month) in [3,4,5]:\n",
        "        return '봄'\n",
        "    elif int(month) in [6,7,8]:\n",
        "        return '여름'\n",
        "    else:\n",
        "        return '가을'\n",
        "concatenated_df['계절']=concatenated_df['월'].apply(seperate_month)\n",
        "print(concatenated_df['계절'].value_counts().sum())\n",
        "concatenated_df['계절'].value_counts()"
      ]
    },
    {
      "cell_type": "markdown",
      "metadata": {
        "id": "BpJ0qSRLcfcV"
      },
      "source": [
        "### 병합된 데이터 전처리 확인"
      ]
    },
    {
      "cell_type": "code",
      "execution_count": null,
      "metadata": {
        "id": "HXQMtNYoce1H"
      },
      "outputs": [],
      "source": [
        "concatenated_df"
      ]
    },
    {
      "cell_type": "markdown",
      "metadata": {
        "id": "OpAXuYkbdN0t"
      },
      "source": [
        "### 테스트 데이터 전처리 진행"
      ]
    },
    {
      "cell_type": "code",
      "execution_count": null,
      "metadata": {
        "id": "AknmzRW3dNBv"
      },
      "outputs": [],
      "source": [
        "test=test_data.copy()"
      ]
    },
    {
      "cell_type": "code",
      "execution_count": null,
      "metadata": {
        "id": "dE6OzzvJdfdq"
      },
      "outputs": [],
      "source": [
        "test[['시','구','동']] = test['시군구'].str.split(' ',expand=True)\n",
        "test.drop(['시군구'],inplace=True, axis=1)"
      ]
    },
    {
      "cell_type": "code",
      "execution_count": null,
      "metadata": {
        "id": "GSzT8fCedh4b"
      },
      "outputs": [],
      "source": [
        "test[['도로형태1', '도로형태2']] = test['도로형태'].str.split(' - ', expand=True)\n",
        "test.drop(['도로형태'],inplace=True, axis=1)"
      ]
    },
    {
      "cell_type": "code",
      "execution_count": null,
      "metadata": {
        "id": "xLgYLi9eZ5AO"
      },
      "outputs": [],
      "source": [
        "kr_holidays = ['2019-01-01', '2019-02-04', '2019-02-05', '2019-02-06', '2019-03-01', '2019-05-05', '2019-05-12', '2019-06-06', '2019-08-15', '2019-09-12', '2019-09-13', '2019-09-14', '2019-10-03', '2019-10-09', '2019-12-25',\n",
        "                '2020-01-01' ,'2020-01-24' ,'2020-01-25', '2020-01-26', '2020-03-01', '2020-04-30', '2020-05-05', '2020-06-06', '2020-08-15', '2020-08-17', '2020-09-30', '2020-10-01', '2020-10-02', '2020-10-03', '2020-10-09', '2020-12-25',\n",
        "                '2021-01-01' ,'2021-02-11' ,'2021-02-12', '2021-02-13', '2021-03-01', '2021-05-05', '2021-05-19', '2021-06-06', '2021-08-15', '2021-09-20', '2021-09-21', '2021-09-22', '2021-10-03', '2021-10-09', '2021-12-25',\n",
        "                '2022-01-01' ,'2022-01-31' ,'2022-02-01', '2022-02-02', '2022-03-01', '2022-05-05', '2022-05-08', '2022-06-06', '2022-08-15', '2022-09-09', '2022-09-10', '2022-09-11', '2022-09-12', '2022-10-03', '2022-10-09', '2020-10-10', '2022-12-25',\n",
        "                '2023-01-01' ,'2023-01-21' ,'2023-01-22', '2023-01-23', '2023-01-24', '2023-03-01', '2023-05-05', '2023-05-26', '2023-06-06', '2023-08-15', '2023-09-28', '2023-09-29', '2023-09-30', '2023-10-03', '2023-10-09', '2023-12-25']\n"
      ]
    },
    {
      "cell_type": "code",
      "execution_count": null,
      "metadata": {
        "id": "bAgkPXu0aOih"
      },
      "outputs": [],
      "source": [
        "test['사고일시'] = pd.to_datetime(test['사고일시'])\n",
        "\n",
        "# datetime에서 year, month, day, hour 추출하여 새로운 열 생성\n",
        "test['년도'] = test['사고일시'].dt.year\n",
        "test['월'] = test['사고일시'].dt.month\n",
        "test['day'] = test['사고일시'].dt.day\n",
        "test['시간'] = test['사고일시'].dt.hour\n",
        "test['day_of_week'] = test['사고일시'].dt.dayofweek\n",
        "\n",
        "test['holiday'] = np.where((test.day_of_week >= 5) | (test.사고일시.dt.strftime('%Y-%m-%d').isin(kr_holidays)), '휴일', '평일')\n",
        "\n",
        "test.drop(columns=['사고일시'], inplace=True)\n",
        "test.drop(['day', 'day_of_week'], inplace=True, axis=1)"
      ]
    },
    {
      "cell_type": "code",
      "execution_count": null,
      "metadata": {
        "id": "j6BgY617djfJ"
      },
      "outputs": [],
      "source": [
        "test['시간구분']=test['시간'].apply(seperate_time)"
      ]
    },
    {
      "cell_type": "code",
      "execution_count": null,
      "metadata": {
        "id": "dDCuSs-IdqHO"
      },
      "outputs": [],
      "source": [
        "test['계절']=test['월'].apply(seperate_month)\n",
        "test['계절'].value_counts()"
      ]
    },
    {
      "cell_type": "code",
      "execution_count": null,
      "metadata": {
        "id": "Iv4_6B2t-wTq"
      },
      "outputs": [],
      "source": [
        "test.drop('ID',axis=1,inplace=True)"
      ]
    },
    {
      "cell_type": "markdown",
      "metadata": {
        "id": "ghxd61KedxF7"
      },
      "source": [
        "#### 테스트 데이터 전처리 결과 확인"
      ]
    },
    {
      "cell_type": "code",
      "execution_count": null,
      "metadata": {
        "id": "c-isqIsSdt1H"
      },
      "outputs": [],
      "source": [
        "test"
      ]
    },
    {
      "cell_type": "markdown",
      "metadata": {
        "id": "XrjJtX5x8Rz3"
      },
      "source": [
        "#### 합쳐진 훈련 데이터 셋 오류 수정"
      ]
    },
    {
      "cell_type": "code",
      "execution_count": null,
      "metadata": {
        "id": "TP2h4ZvU8Rz3"
      },
      "outputs": [],
      "source": [
        "concatenated_df = concatenated_df[~concatenated_df['기상상태'].str.split().str[-1].str.contains('안개')]\n",
        "concatenated_df = concatenated_df[~concatenated_df['노면상태'].str.split().str[-1].str.contains('해빙')]"
      ]
    },
    {
      "cell_type": "code",
      "execution_count": null,
      "metadata": {
        "id": "899Ng_pb8Rz3"
      },
      "outputs": [],
      "source": [
        "concatenated_df"
      ]
    },
    {
      "cell_type": "markdown",
      "metadata": {
        "id": "Mr5ONalM8Rz3"
      },
      "source": [
        "#### 전처리 데이터 저장 - 전처리 매번 로딩할 필요 없다"
      ]
    },
    {
      "cell_type": "code",
      "execution_count": null,
      "metadata": {
        "id": "vrDVVfti8Rz3"
      },
      "outputs": [],
      "source": [
        "# concatenated_df.to_csv(path + f'/데이터들/인코딩 없음/train.csv')\n",
        "# test.to_csv(path + f'/데이터들/인코딩 없음/test.csv')"
      ]
    },
    {
      "cell_type": "code",
      "execution_count": null,
      "metadata": {
        "id": "NvNUX_EC8Rz3"
      },
      "outputs": [],
      "source": [
        "# path = os.getcwd()\n",
        "\n",
        "# concatenated_df.to_csv(path + f'/데이터들/인코딩 없음/train.csv')\n",
        "# test = pd.read_csv(path + f'/데이터들/인코딩 없음/test.csv')"
      ]
    },
    {
      "cell_type": "markdown",
      "metadata": {
        "id": "AjAlt9Ae8Xaj"
      },
      "source": [
        "#전처리 - 원핫인코딩"
      ]
    },
    {
      "cell_type": "code",
      "execution_count": null,
      "metadata": {
        "id": "nOuu6cHx8X5q"
      },
      "outputs": [],
      "source": [
        "total_data = pd.concat([concatenated_df, test])\n",
        "total_data = pd.get_dummies(total_data)"
      ]
    },
    {
      "cell_type": "code",
      "execution_count": null,
      "metadata": {
        "id": "dIsa4qWa9zp-"
      },
      "outputs": [],
      "source": [
        "for c in total_data.columns:\n",
        "    print(c)\n",
        "print(len(total_data.columns))"
      ]
    },
    {
      "cell_type": "code",
      "execution_count": null,
      "metadata": {
        "id": "FopNrnbw914I"
      },
      "outputs": [],
      "source": [
        "train_data = total_data[~total_data['ECLO'].isnull()]\n",
        "test_data = total_data[total_data['ECLO'].isnull()]"
      ]
    },
    {
      "cell_type": "code",
      "execution_count": null,
      "metadata": {
        "id": "QcO1YfQB-HN8"
      },
      "outputs": [],
      "source": [
        "test_data = test_data.drop(['사망자수','중상자수','경상자수','부상자수','ECLO'], axis=1)"
      ]
    },
    {
      "cell_type": "code",
      "execution_count": null,
      "metadata": {
        "id": "S9ii31QE-KCZ"
      },
      "outputs": [],
      "source": [
        "train_data"
      ]
    },
    {
      "cell_type": "code",
      "execution_count": null,
      "metadata": {
        "id": "HIBjEooJ-LbP"
      },
      "outputs": [],
      "source": [
        "test_data"
      ]
    },
    {
      "cell_type": "code",
      "execution_count": null,
      "metadata": {
        "id": "rzB6LrAZ-MmV"
      },
      "outputs": [],
      "source": [
        "train_data.info()"
      ]
    },
    {
      "cell_type": "markdown",
      "metadata": {
        "id": "EblrcOUCARH4"
      },
      "source": [
        "#AutoML을 이용한 하이퍼파라마터 튜닝"
      ]
    },
    {
      "cell_type": "code",
      "execution_count": null,
      "metadata": {
        "id": "vxSPs8rcXRQZ"
      },
      "outputs": [],
      "source": [
        "!pip install optuna"
      ]
    },
    {
      "cell_type": "code",
      "execution_count": null,
      "metadata": {
        "id": "uW9aO7StXJWh"
      },
      "outputs": [],
      "source": [
        "import optuna\n",
        "from optuna import Trial\n",
        "from optuna.samplers import TPESampler\n",
        "from xgboost import XGBRegressor\n",
        "from sklearn.metrics import mean_squared_log_error as msle\n"
      ]
    },
    {
      "cell_type": "markdown",
      "metadata": {
        "id": "NAwLoXa3BObc"
      },
      "source": [
        "label값 분리"
      ]
    },
    {
      "cell_type": "code",
      "execution_count": null,
      "metadata": {
        "id": "1oNMpcgnEO1X"
      },
      "outputs": [],
      "source": [
        "y1=train_data[['ECLO']]\n",
        "y2=train_data[['사망자수']]\n",
        "y3=train_data[['중상자수']]\n",
        "y4=train_data[['경상자수']]\n",
        "y5=train_data[['부상자수']]\n",
        "X=train_data.drop(columns=['사망자수','중상자수','경상자수','부상자수','ECLO'])"
      ]
    },
    {
      "cell_type": "markdown",
      "metadata": {
        "id": "Qto004xCBXBY"
      },
      "source": [
        "훈련,테스트(검증)셋 분리"
      ]
    },
    {
      "cell_type": "code",
      "execution_count": null,
      "metadata": {
        "id": "tSZdoyHkXyfl"
      },
      "outputs": [],
      "source": [
        "from sklearn.model_selection import train_test_split\n",
        "X_train, X_test, y_train, y_test = train_test_split(X,y1, test_size=0.2, random_state=42)"
      ]
    },
    {
      "cell_type": "markdown",
      "metadata": {
        "id": "L1VN7R-gL-Uh"
      },
      "source": [
        "XGBRegressor"
      ]
    },
    {
      "cell_type": "code",
      "execution_count": null,
      "metadata": {
        "id": "8m85SOSxMRbZ"
      },
      "outputs": [],
      "source": [
        "def objective(trial: Trial):\n",
        "    params_xgb={\n",
        "        'random_state':42,\n",
        "        'max_depth':trial.suggest_int('max_depth',3,10),                        #트리의 최대 깊이 3~10\n",
        "        'learning_rate':trial.suggest_float('learning_rate',0.0001,0.1),        #학습률 0.0001~0.1\n",
        "        'n_estimators':trial.suggest_int('n_estimators',100,1000,100),          #트리 개수 100~1000 100단위\n",
        "        'reg_alpha':trial.suggest_float('reg_alpha',0.01,1.0),                  #L1규제\n",
        "        'reg_lambda':trial.suggest_float('reg_lambda',0.01,1.0),                #L2규제\n",
        "        \"subsample\": trial.suggest_float(\"subsample\", 0.7, 1.0),                #학습 시 사용할 훈련 데이터의 비율\n",
        "        'eta': trial.suggest_float('eta', 0.007, 0.013),                        #부스팅 각 단계에서 사용되는 축소 비율\n",
        "        \"colsample_bytree\": trial.suggest_float(\"colsample_bytree\", 0.4, 1.0),  #트리 구성하는데 사용할 특성의 비율\n",
        "    }\n",
        "    model=XGBRegressor(**params_xgb,n_jobs=-1)\n",
        "    best_xgb=model.fit(X_train,y_train, eval_set=[(X_test,y_test)],eval_metric='rmsle',early_stopping_rounds=100)\n",
        "\n",
        "    cgb_pred = model.predict(X_test)\n",
        "    loss=msle(y_test,cgb_pred)\n",
        "\n",
        "    return np.sqrt(loss)"
      ]
    },
    {
      "cell_type": "code",
      "execution_count": null,
      "metadata": {
        "id": "Y_iCszztWt8v"
      },
      "outputs": [],
      "source": [
        "sampler = TPESampler(seed=42)\n",
        "study1 = optuna.create_study(\n",
        "    study_name=\"xgb_parameter_opt\",\n",
        "    direction=\"minimize\",\n",
        "    sampler=sampler,\n",
        ")\n",
        "\n",
        "study1.optimize(objective, n_trials=10)\n",
        "best_xgb_model=XGBRegressor(**study1.best_trial.params,n_jobs=-1)\n",
        "best_xgb_model.fit(X_train,y_train, eval_set=[(X_test,y_test)], early_stopping_rounds=100, eval_metric='rmsle',verbose=False)\n",
        "print(\"Best Score:\", study1.best_value)\n",
        "print(\"Best trial:\", study1.best_trial.params)"
      ]
    },
    {
      "cell_type": "code",
      "execution_count": null,
      "metadata": {
        "id": "LzJHifO9iEma"
      },
      "outputs": [],
      "source": [
        "import joblib\n",
        "\n",
        "# XGBoost 모델 저장\n",
        "joblib.dump(best_xgb_model, 'best_xgb_model.pkl')\n"
      ]
    },
    {
      "cell_type": "code",
      "execution_count": null,
      "metadata": {
        "id": "XQ1UPQxiW18O"
      },
      "outputs": [],
      "source": [
        "optuna.visualization.plot_optimization_history(study1)"
      ]
    },
    {
      "cell_type": "code",
      "execution_count": null,
      "metadata": {
        "id": "sBmqb6i86CrF"
      },
      "outputs": [],
      "source": [
        "#파라미터들관의 관계\n",
        "optuna.visualization.plot_parallel_coordinate(study1)"
      ]
    },
    {
      "cell_type": "markdown",
      "metadata": {
        "id": "EldkZaqy6RP0"
      },
      "source": [
        "lightlgbm"
      ]
    },
    {
      "cell_type": "code",
      "execution_count": null,
      "metadata": {
        "id": "23l2a-oq_mvc"
      },
      "outputs": [],
      "source": [
        "from lightgbm import LGBMRegressor, early_stopping"
      ]
    },
    {
      "cell_type": "code",
      "execution_count": null,
      "metadata": {
        "id": "1T7XnAdR6ZJ1"
      },
      "outputs": [],
      "source": [
        "def objective2(trial:Trial):\n",
        "    params_lgb ={\n",
        "        'random_state':42,\n",
        "        'objective': 'regression',\n",
        "        'metric': 'rmse',\n",
        "        'num_leaves': trial.suggest_int('num_leaves', 2, 1024, step=1, log=True),   #최대 잎의 수\n",
        "        'learning_rate': trial.suggest_loguniform(\"learning_rate\", 1e-8, 1e-2),     #학습률\n",
        "        'n_estimators': trial.suggest_int('n_estimators', 100, 1000,100),           #트리 개수\n",
        "        'subsample': trial.suggest_loguniform('subsample', 0.4,1),                  #학습 시 사용할 훈련 데이터의 비율\n",
        "        \"colsample_bytree\": trial.suggest_float(\"colsample_bytree\", 0.4, 1.0),      #트리를 구성하는 데 사용할 특성의 비율\n",
        "        'reg_alpha':trial.suggest_float('reg_alpha',0.01,1.0),                      #L1규제\n",
        "        'reg_lambda':trial.suggest_float('reg_lambda',0.01,1.0),                    #L2규제\n",
        "        'max_depth': trial.suggest_int('max_depth',3, 10),                          #최대 깊이\n",
        "        'min_child_samples': trial.suggest_int('min_child_samples', 5, 100),        #리프 노드에서 필요핸 최소 샘플 개수\n",
        "    }\n",
        "    model=LGBMRegressor(**params_lgb,n_jobs=-1)\n",
        "    best_lgbm=model.fit(X_train,y_train, eval_set=[(X_test,y_test)],eval_metric='rmsle', callbacks=[early_stopping(stopping_rounds=100)])\n",
        "\n",
        "    lgbm_pred = model.predict(X_test)\n",
        "    loss=msle(y_test,lgbm_pred)\n",
        "\n",
        "    return np.sqrt(loss)\n"
      ]
    },
    {
      "cell_type": "code",
      "execution_count": null,
      "metadata": {
        "id": "kkWuap_u6ZE1"
      },
      "outputs": [],
      "source": [
        "sampler = TPESampler(seed=42)\n",
        "study2 = optuna.create_study(\n",
        "    study_name=\"lgbm_parameter_opt\",\n",
        "    direction=\"minimize\",\n",
        "    sampler=sampler,\n",
        ")\n",
        "\n",
        "study2.optimize(objective2, n_trials=10)\n",
        "best_lgbm_model = LGBMRegressor(**study2.best_trial.params,n_jobs=-1)\n",
        "best_lgbm_model.fit(X_train,y_train, eval_set=[(X_test,y_test)],eval_metric='rmsle', callbacks=[early_stopping(stopping_rounds=100)])\n",
        "print(\"Best Score:\", study2.best_value)\n",
        "print(\"Best trial:\", study2.best_trial.params)"
      ]
    },
    {
      "cell_type": "code",
      "execution_count": null,
      "metadata": {
        "id": "Z2UnVeUviJSb"
      },
      "outputs": [],
      "source": [
        "joblib.dump(best_lgbm_model, 'best_lgbm_model.pkl')"
      ]
    },
    {
      "cell_type": "markdown",
      "metadata": {
        "id": "93PKcPLjCZIW"
      },
      "source": [
        "catboost"
      ]
    },
    {
      "cell_type": "code",
      "execution_count": null,
      "metadata": {
        "id": "sXXNJkCQ6ZBd"
      },
      "outputs": [],
      "source": [
        "!pip install catboost"
      ]
    },
    {
      "cell_type": "code",
      "execution_count": null,
      "metadata": {
        "id": "2Y58xiZmYoBK"
      },
      "outputs": [],
      "source": [
        "from catboost import CatBoostRegressor"
      ]
    },
    {
      "cell_type": "code",
      "execution_count": null,
      "metadata": {
        "id": "oKNVFFbhC24y"
      },
      "outputs": [],
      "source": [
        "def objective3(trial:Trial):\n",
        "    params_cat ={\n",
        "        'iterations':trial.suggest_int(\"iterations\", 100, 1000,100),                            #부스팅 반복 횟수\n",
        "        'od_wait':trial.suggest_int('od_wait', 500, 2300),                                      #조기 정지를 위한 반복 횟수\n",
        "        'learning_rate' : trial.suggest_uniform('learning_rate',1e-8, 1),                       #학습률\n",
        "        'reg_lambda': trial.suggest_uniform('reg_lambda',1e-5,100),                             #L2규제\n",
        "        'subsample': trial.suggest_uniform('subsample',0.4,1),                                  #각 부스팅 단계에서 사용되는 훈련 데이터의 샘플링 비율\n",
        "        'random_strength': trial.suggest_uniform('random_strength',10,50),                      #데이터 샘플의 무작위성을 조절\n",
        "        'depth': trial.suggest_int('depth',1, 15),                                              #트리의 최대 깊이\n",
        "        'min_data_in_leaf': trial.suggest_int('min_data_in_leaf',1,30),                         #리프 노드에 필요한 최소 데이터 수\n",
        "        'leaf_estimation_iterations': trial.suggest_int('leaf_estimation_iterations',1,15),     #리프 노드의 추정 반복 횟수\n",
        "        'bagging_temperature' :trial.suggest_loguniform('bagging_temperature', 0.01, 100.00),   #부트스트랩 샘플링 온도\n",
        "        'colsample_bylevel':trial.suggest_float('colsample_bylevel', 0.4, 1.0),                 #각 트리 수준에서 특성을 샘플링하는 비율\n",
        "    }\n",
        "    model=CatBoostRegressor(**params_cat)\n",
        "    best_cat=model.fit(X_train, y_train, eval_set=[(X_test,y_test)],early_stopping_rounds=100)\n",
        "\n",
        "    cat_pred = model.predict(X_test)\n",
        "    loss=msle(y_test,cat_pred)\n",
        "\n",
        "    return np.sqrt(loss)\n"
      ]
    },
    {
      "cell_type": "code",
      "execution_count": null,
      "metadata": {
        "id": "R2d8qI4MC21a"
      },
      "outputs": [],
      "source": [
        "sampler = TPESampler(seed=42)\n",
        "study3 = optuna.create_study(\n",
        "    study_name=\"cat_parameter_opt\",\n",
        "    direction=\"minimize\",\n",
        "    sampler=sampler,\n",
        ")\n",
        "\n",
        "study3.optimize(objective3, n_trials=10)\n",
        "best_cat_model=CatBoostRegressor(**study3.best_trial.params)\n",
        "best_cat_model.fit(X_train,y_train, eval_set=[(X_test,y_test)], early_stopping_rounds=100,verbose=False)\n",
        "print(\"Best Score:\", study3.best_value)\n",
        "print(\"Best trial:\", study3.best_trial.params)"
      ]
    },
    {
      "cell_type": "code",
      "execution_count": null,
      "metadata": {
        "id": "ZLPaHyd-iN4z"
      },
      "outputs": [],
      "source": [
        "joblib.dump(best_cat_model, 'best_cat_model.pkl')"
      ]
    },
    {
      "cell_type": "markdown",
      "metadata": {
        "id": "rZdB8_kzti7p"
      },
      "source": [
        "모델 앙상블 가중치 찾기"
      ]
    },
    {
      "cell_type": "code",
      "execution_count": null,
      "metadata": {
        "id": "FESohK1gC2yk"
      },
      "outputs": [],
      "source": [
        "def objective(trial):\n",
        "    # 가중치 탐색 공간 정의\n",
        "    w1 = trial.suggest_float('w1', 0.0, 1.0)\n",
        "    w2 = trial.suggest_float('w2', 0.0, 1.0)\n",
        "    w3 = trial.suggest_float('w3', 0.0, 1.0)\n",
        "\n",
        "    # 모델 예측 값의 가중 평균\n",
        "    y_pred = w1 * best_xgb_model.predict(X_test) + w2 * best_lgbm_model.predict(X_test) + w3 * best_cat_model.predict(X_test)\n",
        "\n",
        "    loss=msle(y_test,y_pred)\n",
        "\n",
        "    return np.sqrt(loss)"
      ]
    },
    {
      "cell_type": "code",
      "execution_count": null,
      "metadata": {
        "id": "8OPpJBhMC2sa"
      },
      "outputs": [],
      "source": [
        "study = optuna.create_study(direction='minimize')\n",
        "study.optimize(objective, n_trials=100)\n",
        "\n",
        "# 최적의 하이퍼파라미터 값 출력\n",
        "best_weights = study.best_params\n",
        "print(\"Best weights:\", best_weights)"
      ]
    },
    {
      "cell_type": "markdown",
      "source": [
        "검증set 성능"
      ],
      "metadata": {
        "id": "qMfLiU8gyxfP"
      }
    },
    {
      "cell_type": "code",
      "source": [
        "from sklearn.metrics import mean_squared_log_error\n",
        "def rmsle(y, pred):\n",
        "    return np.sqrt(mean_squared_log_error(y, pred))"
      ],
      "metadata": {
        "id": "xps3ShwOy4rh"
      },
      "execution_count": null,
      "outputs": []
    },
    {
      "cell_type": "code",
      "source": [
        "y_pred_valid=best_weights['w1'] * best_xgb_model.predict(X_test) + best_weights['w2'] * best_lgbm_model.predict(X_test) + best_weights['w3'] * best_cat_model.predict(X_test)\n",
        "rmsle1 = rmsle(y_test, y_pred_valid)\n",
        "rmsle1"
      ],
      "metadata": {
        "id": "JlpwXJMAycmw"
      },
      "execution_count": null,
      "outputs": []
    },
    {
      "cell_type": "markdown",
      "metadata": {
        "id": "L4OwvhC4Aczo"
      },
      "source": [
        "가중치를 이용해 예측값 계산"
      ]
    },
    {
      "cell_type": "code",
      "execution_count": null,
      "metadata": {
        "id": "tRervQR6sGj4"
      },
      "outputs": [],
      "source": [
        "y_pred = best_weights['w1'] * best_xgb_model.predict(test_data) + best_weights['w2'] * best_lgbm_model.predict(test_data) + best_weights['w3'] * best_cat_model.predict(test_data)"
      ]
    },
    {
      "cell_type": "code",
      "execution_count": null,
      "metadata": {
        "id": "W36LY47_sFJt"
      },
      "outputs": [],
      "source": [
        "y_pred"
      ]
    },
    {
      "cell_type": "markdown",
      "metadata": {
        "id": "vPHBdYmKAjBg"
      },
      "source": [
        "파일제출"
      ]
    },
    {
      "cell_type": "code",
      "execution_count": null,
      "metadata": {
        "id": "j3W9Zmfhr1qH"
      },
      "outputs": [],
      "source": [
        "sample_submission=pd.read_csv('/content/drive/MyDrive/camp/project1/open/sample_submission.csv')\n",
        "submit=sample_submission.copy()"
      ]
    },
    {
      "cell_type": "code",
      "execution_count": null,
      "metadata": {
        "id": "3CiA7EIbr1mR"
      },
      "outputs": [],
      "source": [
        "submit['ECLO']=y_pred"
      ]
    },
    {
      "cell_type": "code",
      "execution_count": null,
      "metadata": {
        "id": "019B1EmXsDtd"
      },
      "outputs": [],
      "source": [
        "submit"
      ]
    },
    {
      "cell_type": "code",
      "execution_count": null,
      "metadata": {
        "id": "OQd18QJ5saTG"
      },
      "outputs": [],
      "source": [
        "submit.to_csv('submision.csv', index=False)"
      ]
    }
  ],
  "metadata": {
    "colab": {
      "provenance": [],
      "include_colab_link": true
    },
    "kernelspec": {
      "display_name": "Python 3",
      "name": "python3"
    },
    "language_info": {
      "codemirror_mode": {
        "name": "ipython",
        "version": 3
      },
      "file_extension": ".py",
      "mimetype": "text/x-python",
      "name": "python",
      "nbconvert_exporter": "python",
      "pygments_lexer": "ipython3",
      "version": "3.12.2"
    }
  },
  "nbformat": 4,
  "nbformat_minor": 0
}