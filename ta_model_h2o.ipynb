{
 "cells": [
  {
   "cell_type": "code",
   "execution_count": 1,
   "metadata": {},
   "outputs": [
    {
     "name": "stdout",
     "output_type": "stream",
     "text": [
      "Checking whether there is an H2O instance running at http://localhost:54321..... not found.\n",
      "Attempting to start a local H2O server...\n",
      "; Java HotSpot(TM) 64-Bit Server VM (build 17.0.10+11-LTS-240, mixed mode, sharing)\n",
      "  Starting server from C:\\Users\\HighTech\\AppData\\Local\\Programs\\Python\\Python312\\Lib\\site-packages\\h2o\\backend\\bin\\h2o.jar\n",
      "  Ice root: C:\\Users\\HighTech\\AppData\\Local\\Temp\\tmpj79bbqnn\n",
      "  JVM stdout: C:\\Users\\HighTech\\AppData\\Local\\Temp\\tmpj79bbqnn\\h2o_HighTech_started_from_python.out\n",
      "  JVM stderr: C:\\Users\\HighTech\\AppData\\Local\\Temp\\tmpj79bbqnn\\h2o_HighTech_started_from_python.err\n",
      "  Server is running at http://127.0.0.1:54321\n",
      "Connecting to H2O server at http://127.0.0.1:54321 ... successful.\n"
     ]
    },
    {
     "data": {
      "text/html": [
       "\n",
       "<style>\n",
       "\n",
       "#h2o-table-1.h2o-container {\n",
       "  overflow-x: auto;\n",
       "}\n",
       "#h2o-table-1 .h2o-table {\n",
       "  /* width: 100%; */\n",
       "  margin-top: 1em;\n",
       "  margin-bottom: 1em;\n",
       "}\n",
       "#h2o-table-1 .h2o-table caption {\n",
       "  white-space: nowrap;\n",
       "  caption-side: top;\n",
       "  text-align: left;\n",
       "  /* margin-left: 1em; */\n",
       "  margin: 0;\n",
       "  font-size: larger;\n",
       "}\n",
       "#h2o-table-1 .h2o-table thead {\n",
       "  white-space: nowrap; \n",
       "  position: sticky;\n",
       "  top: 0;\n",
       "  box-shadow: 0 -1px inset;\n",
       "}\n",
       "#h2o-table-1 .h2o-table tbody {\n",
       "  overflow: auto;\n",
       "}\n",
       "#h2o-table-1 .h2o-table th,\n",
       "#h2o-table-1 .h2o-table td {\n",
       "  text-align: right;\n",
       "  /* border: 1px solid; */\n",
       "}\n",
       "#h2o-table-1 .h2o-table tr:nth-child(even) {\n",
       "  /* background: #F5F5F5 */\n",
       "}\n",
       "\n",
       "</style>      \n",
       "<div id=\"h2o-table-1\" class=\"h2o-container\">\n",
       "  <table class=\"h2o-table\">\n",
       "    <caption></caption>\n",
       "    <thead></thead>\n",
       "    <tbody><tr><td>H2O_cluster_uptime:</td>\n",
       "<td>01 secs</td></tr>\n",
       "<tr><td>H2O_cluster_timezone:</td>\n",
       "<td>Asia/Seoul</td></tr>\n",
       "<tr><td>H2O_data_parsing_timezone:</td>\n",
       "<td>UTC</td></tr>\n",
       "<tr><td>H2O_cluster_version:</td>\n",
       "<td>3.44.0.3</td></tr>\n",
       "<tr><td>H2O_cluster_version_age:</td>\n",
       "<td>2 months and 6 days</td></tr>\n",
       "<tr><td>H2O_cluster_name:</td>\n",
       "<td>H2O_from_python_HighTech_tetntk</td></tr>\n",
       "<tr><td>H2O_cluster_total_nodes:</td>\n",
       "<td>1</td></tr>\n",
       "<tr><td>H2O_cluster_free_memory:</td>\n",
       "<td>3.939 Gb</td></tr>\n",
       "<tr><td>H2O_cluster_total_cores:</td>\n",
       "<td>12</td></tr>\n",
       "<tr><td>H2O_cluster_allowed_cores:</td>\n",
       "<td>12</td></tr>\n",
       "<tr><td>H2O_cluster_status:</td>\n",
       "<td>locked, healthy</td></tr>\n",
       "<tr><td>H2O_connection_url:</td>\n",
       "<td>http://127.0.0.1:54321</td></tr>\n",
       "<tr><td>H2O_connection_proxy:</td>\n",
       "<td>{\"http\": null, \"https\": null}</td></tr>\n",
       "<tr><td>H2O_internal_security:</td>\n",
       "<td>False</td></tr>\n",
       "<tr><td>Python_version:</td>\n",
       "<td>3.12.2 final</td></tr></tbody>\n",
       "  </table>\n",
       "</div>\n"
      ],
      "text/plain": [
       "--------------------------  -------------------------------\n",
       "H2O_cluster_uptime:         01 secs\n",
       "H2O_cluster_timezone:       Asia/Seoul\n",
       "H2O_data_parsing_timezone:  UTC\n",
       "H2O_cluster_version:        3.44.0.3\n",
       "H2O_cluster_version_age:    2 months and 6 days\n",
       "H2O_cluster_name:           H2O_from_python_HighTech_tetntk\n",
       "H2O_cluster_total_nodes:    1\n",
       "H2O_cluster_free_memory:    3.939 Gb\n",
       "H2O_cluster_total_cores:    12\n",
       "H2O_cluster_allowed_cores:  12\n",
       "H2O_cluster_status:         locked, healthy\n",
       "H2O_connection_url:         http://127.0.0.1:54321\n",
       "H2O_connection_proxy:       {\"http\": null, \"https\": null}\n",
       "H2O_internal_security:      False\n",
       "Python_version:             3.12.2 final\n",
       "--------------------------  -------------------------------"
      ]
     },
     "metadata": {},
     "output_type": "display_data"
    },
    {
     "name": "stdout",
     "output_type": "stream",
     "text": [
      "Parse progress: |████████████████████████████████████████████████████████████████| (done) 100%\n",
      "Parse progress: |████████████████████████████████████████████████████████████████| (done) 100%\n"
     ]
    }
   ],
   "source": [
    "import pandas as pd\n",
    "import h2o\n",
    "from h2o.automl import H2OAutoML\n",
    "from h2o.estimators.gbm import H2OGradientBoostingEstimator\n",
    "from h2o.frame import H2OFrame\n",
    "import os\n",
    "\n",
    "path=os.getcwd()\n",
    "\n",
    "h2o.init()\n",
    "\n",
    "# Import datasets into H2O\n",
    "train = pd.read_csv(path + f'/h2o/train.csv', encoding='utf-8')\n",
    "test = pd.read_csv(path + f'/h2o/test.csv', encoding='utf-8')\n",
    "\n",
    "train_h2o = H2OFrame(train)\n",
    "test_h2o = H2OFrame(test)\n",
    "#train_h2o = h2o.import_file(path + f'/h2o/train.csv')\n",
    "#test_h2o = h2o.import_file(path + f'/h2o/test.csv')"
   ]
  },
  {
   "cell_type": "code",
   "execution_count": 2,
   "metadata": {},
   "outputs": [
    {
     "name": "stdout",
     "output_type": "stream",
     "text": [
      "['Unnamed: 0', '요일', '기상상태', '노면상태', '사고유형', '사망자수', '중상자수', '경상자수', '부상자수', 'ECLO', '시', '구', '동', '도로형태1', '도로형태2', '년도', '월', '시간', 'holiday', '시간구분', '계절', '기상상태_레이블', '노면상태_레이블', '사고유형_레이블', '시_레이블', '구_레이블', '동_레이블', '도로형태1_레이블', '도로형태2_레이블', 'holiday_레이블', '시간구분_레이블', '계절_레이블']\n"
     ]
    }
   ],
   "source": [
    "# Set the target and predictors\n",
    "y = 'ECLO'\n",
    "x = train_h2o.columns\n",
    "print(x)\n",
    "x.remove(y)\n",
    "delete = ['Unnamed: 0', '사망자수', '중상자수', '경상자수', '부상자수']\n",
    "\n",
    "for i in delete:\n",
    "    x.remove(i)"
   ]
  },
  {
   "cell_type": "code",
   "execution_count": 4,
   "metadata": {},
   "outputs": [
    {
     "name": "stdout",
     "output_type": "stream",
     "text": [
      "AutoML progress: |\n",
      "09:19:24.416: AutoML: XGBoost is not available; skipping it.\n",
      "\n",
      "███████████████████████████████████████████████████████████████| (done) 100%\n",
      "model_id                                       rmse      mse      mae     rmsle    mean_residual_deviance\n",
      "GBM_grid_1_AutoML_1_20240227_91924_model_3  3.11545  9.70603  2.02406  0.434423                   9.70603\n",
      "GBM_2_AutoML_1_20240227_91924               3.11559  9.70688  2.02355  0.434436                   9.70688\n",
      "GBM_5_AutoML_1_20240227_91924               3.11572  9.70772  2.02451  0.434422                   9.70772\n",
      "GBM_grid_1_AutoML_1_20240227_91924_model_2  3.11596  9.70919  2.02539  0.434454                   9.70919\n",
      "GBM_3_AutoML_1_20240227_91924               3.1175   9.71882  2.02512  0.4346                     9.71882\n",
      "DeepLearning_1_AutoML_1_20240227_91924      3.12204  9.74712  2.03251  0.436004                   9.74712\n",
      "GBM_4_AutoML_1_20240227_91924               3.12313  9.75396  2.02797  0.435327                   9.75396\n",
      "GBM_1_AutoML_1_20240227_91924               3.12663  9.77582  2.02899  0.435916                   9.77582\n",
      "XRT_1_AutoML_1_20240227_91924               3.13509  9.8288   2.02777  0.435467                   9.8288\n",
      "GBM_grid_1_AutoML_1_20240227_91924_model_4  3.13834  9.84915  2.03381  0.437281                   9.84915\n",
      "[14 rows x 6 columns]\n",
      "\n"
     ]
    }
   ],
   "source": [
    "# Initialize and run H2O AutoML\n",
    "aml = H2OAutoML(max_models=20, seed=1, max_runtime_secs=1000, stopping_metric='RMSE')\n",
    "aml.train(x=x, y=y, training_frame=train_h2o)\n",
    "\n",
    "# View the AutoML Leaderboard\n",
    "lb = aml.leaderboard\n",
    "print(lb)"
   ]
  },
  {
   "cell_type": "code",
   "execution_count": null,
   "metadata": {},
   "outputs": [
    {
     "name": "stdout",
     "output_type": "stream",
     "text": [
      "gbm prediction progress: |███████████████████████████████████████████████████████| (done) 100%\n"
     ]
    },
    {
     "name": "stderr",
     "output_type": "stream",
     "text": [
      "c:\\Users\\32170336\\AppData\\Local\\Programs\\Python\\Python312\\Lib\\site-packages\\h2o\\frame.py:1979: H2ODependencyWarning: converting H2O frame to pandas dataframe using single-thread.  For faster conversion using multi-thread, install datatable (for Python 3.9 or lower), or polars and pyarrow (for Python 3.10 or above).\n",
      "  warnings.warn(\"converting H2O frame to pandas dataframe using single-thread.  For faster conversion using\"\n"
     ]
    },
    {
     "name": "stdout",
     "output_type": "stream",
     "text": [
      "    predict\n",
      "0  4.013062\n",
      "1  4.489311\n",
      "2  3.843454\n",
      "3  5.524245\n",
      "4  5.204374\n"
     ]
    }
   ],
   "source": [
    "# Generate predictions\n",
    "preds = aml.predict(test_h2o)\n",
    "h2o_predictions = preds.as_data_frame()\n",
    "print(h2o_predictions.head())"
   ]
  }
 ],
 "metadata": {
  "kernelspec": {
   "display_name": "Python 3",
   "language": "python",
   "name": "python3"
  },
  "language_info": {
   "codemirror_mode": {
    "name": "ipython",
    "version": 3
   },
   "file_extension": ".py",
   "mimetype": "text/x-python",
   "name": "python",
   "nbconvert_exporter": "python",
   "pygments_lexer": "ipython3",
   "version": "3.12.2"
  }
 },
 "nbformat": 4,
 "nbformat_minor": 2
}
