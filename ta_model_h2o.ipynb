{
 "cells": [
  {
   "cell_type": "code",
   "execution_count": 8,
   "metadata": {},
   "outputs": [
    {
     "name": "stdout",
     "output_type": "stream",
     "text": [
      "Checking whether there is an H2O instance running at http://localhost:54321. connected.\n"
     ]
    },
    {
     "data": {
      "text/html": [
       "\n",
       "<style>\n",
       "\n",
       "#h2o-table-4.h2o-container {\n",
       "  overflow-x: auto;\n",
       "}\n",
       "#h2o-table-4 .h2o-table {\n",
       "  /* width: 100%; */\n",
       "  margin-top: 1em;\n",
       "  margin-bottom: 1em;\n",
       "}\n",
       "#h2o-table-4 .h2o-table caption {\n",
       "  white-space: nowrap;\n",
       "  caption-side: top;\n",
       "  text-align: left;\n",
       "  /* margin-left: 1em; */\n",
       "  margin: 0;\n",
       "  font-size: larger;\n",
       "}\n",
       "#h2o-table-4 .h2o-table thead {\n",
       "  white-space: nowrap; \n",
       "  position: sticky;\n",
       "  top: 0;\n",
       "  box-shadow: 0 -1px inset;\n",
       "}\n",
       "#h2o-table-4 .h2o-table tbody {\n",
       "  overflow: auto;\n",
       "}\n",
       "#h2o-table-4 .h2o-table th,\n",
       "#h2o-table-4 .h2o-table td {\n",
       "  text-align: right;\n",
       "  /* border: 1px solid; */\n",
       "}\n",
       "#h2o-table-4 .h2o-table tr:nth-child(even) {\n",
       "  /* background: #F5F5F5 */\n",
       "}\n",
       "\n",
       "</style>      \n",
       "<div id=\"h2o-table-4\" class=\"h2o-container\">\n",
       "  <table class=\"h2o-table\">\n",
       "    <caption></caption>\n",
       "    <thead></thead>\n",
       "    <tbody><tr><td>H2O_cluster_uptime:</td>\n",
       "<td>9 mins 22 secs</td></tr>\n",
       "<tr><td>H2O_cluster_timezone:</td>\n",
       "<td>Asia/Seoul</td></tr>\n",
       "<tr><td>H2O_data_parsing_timezone:</td>\n",
       "<td>UTC</td></tr>\n",
       "<tr><td>H2O_cluster_version:</td>\n",
       "<td>3.44.0.3</td></tr>\n",
       "<tr><td>H2O_cluster_version_age:</td>\n",
       "<td>2 months and 5 days</td></tr>\n",
       "<tr><td>H2O_cluster_name:</td>\n",
       "<td>H2O_from_python_32170336_r3q1e9</td></tr>\n",
       "<tr><td>H2O_cluster_total_nodes:</td>\n",
       "<td>1</td></tr>\n",
       "<tr><td>H2O_cluster_free_memory:</td>\n",
       "<td>3.957 Gb</td></tr>\n",
       "<tr><td>H2O_cluster_total_cores:</td>\n",
       "<td>16</td></tr>\n",
       "<tr><td>H2O_cluster_allowed_cores:</td>\n",
       "<td>16</td></tr>\n",
       "<tr><td>H2O_cluster_status:</td>\n",
       "<td>locked, healthy</td></tr>\n",
       "<tr><td>H2O_connection_url:</td>\n",
       "<td>http://localhost:54321</td></tr>\n",
       "<tr><td>H2O_connection_proxy:</td>\n",
       "<td>{\"http\": null, \"https\": null}</td></tr>\n",
       "<tr><td>H2O_internal_security:</td>\n",
       "<td>False</td></tr>\n",
       "<tr><td>Python_version:</td>\n",
       "<td>3.12.2 final</td></tr></tbody>\n",
       "  </table>\n",
       "</div>\n"
      ],
      "text/plain": [
       "--------------------------  -------------------------------\n",
       "H2O_cluster_uptime:         9 mins 22 secs\n",
       "H2O_cluster_timezone:       Asia/Seoul\n",
       "H2O_data_parsing_timezone:  UTC\n",
       "H2O_cluster_version:        3.44.0.3\n",
       "H2O_cluster_version_age:    2 months and 5 days\n",
       "H2O_cluster_name:           H2O_from_python_32170336_r3q1e9\n",
       "H2O_cluster_total_nodes:    1\n",
       "H2O_cluster_free_memory:    3.957 Gb\n",
       "H2O_cluster_total_cores:    16\n",
       "H2O_cluster_allowed_cores:  16\n",
       "H2O_cluster_status:         locked, healthy\n",
       "H2O_connection_url:         http://localhost:54321\n",
       "H2O_connection_proxy:       {\"http\": null, \"https\": null}\n",
       "H2O_internal_security:      False\n",
       "Python_version:             3.12.2 final\n",
       "--------------------------  -------------------------------"
      ]
     },
     "metadata": {},
     "output_type": "display_data"
    },
    {
     "name": "stdout",
     "output_type": "stream",
     "text": [
      "Parse progress: |████████████████████████████████████████████████████████████████| (done) 100%\n",
      "Parse progress: |████████████████████████████████████████████████████████████████| (done) 100%\n"
     ]
    }
   ],
   "source": [
    "import pandas as pd\n",
    "import h2o\n",
    "from h2o.automl import H2OAutoML\n",
    "from h2o.frame import H2OFrame\n",
    "import os\n",
    "\n",
    "path=os.getcwd()\n",
    "\n",
    "h2o.init()\n",
    "\n",
    "# Import datasets into H2O\n",
    "train = pd.read_csv(path + f'/h2o/train.csv', encoding='utf-8')\n",
    "test = pd.read_csv(path + f'/h2o/test.csv', encoding='utf-8')\n",
    "\n",
    "train_h2o = H2OFrame(train)\n",
    "test_h2o = H2OFrame(test)\n",
    "#train_h2o = h2o.import_file(path + f'/h2o/train.csv')\n",
    "#test_h2o = h2o.import_file(path + f'/h2o/test.csv')"
   ]
  },
  {
   "cell_type": "code",
   "execution_count": 11,
   "metadata": {},
   "outputs": [
    {
     "name": "stdout",
     "output_type": "stream",
     "text": [
      "['Unnamed: 0', '요일', '기상상태', '노면상태', '사고유형', '사망자수', '중상자수', '경상자수', '부상자수', 'ECLO', '시', '구', '동', '도로형태1', '도로형태2', '년도', '월', '시간', 'holiday', '시간구분', '계절', '기상상태_레이블', '노면상태_레이블', '사고유형_레이블', '시_레이블', '구_레이블', '동_레이블', '도로형태1_레이블', '도로형태2_레이블', 'holiday_레이블', '시간구분_레이블', '계절_레이블']\n"
     ]
    },
    {
     "ename": "H2OValueError",
     "evalue": "Column(s) selected to drop are not in original frame: 'ID'",
     "output_type": "error",
     "traceback": [
      "\u001b[1;31m---------------------------------------------------------------------------\u001b[0m",
      "\u001b[1;31mH2OValueError\u001b[0m                             Traceback (most recent call last)",
      "Cell \u001b[1;32mIn[11], line 13\u001b[0m\n\u001b[0;32m      9\u001b[0m     x\u001b[38;5;241m.\u001b[39mremove(i)\n\u001b[0;32m     12\u001b[0m \u001b[38;5;66;03m# For demonstration, assuming 'ID' column exists in the test dataset and needs to be removed\u001b[39;00m\n\u001b[1;32m---> 13\u001b[0m test_h2o \u001b[38;5;241m=\u001b[39m \u001b[43mtest_h2o\u001b[49m\u001b[38;5;241;43m.\u001b[39;49m\u001b[43mdrop\u001b[49m\u001b[43m(\u001b[49m\u001b[38;5;124;43m'\u001b[39;49m\u001b[38;5;124;43mID\u001b[39;49m\u001b[38;5;124;43m'\u001b[39;49m\u001b[43m,\u001b[49m\u001b[43m \u001b[49m\u001b[43maxis\u001b[49m\u001b[38;5;241;43m=\u001b[39;49m\u001b[38;5;241;43m1\u001b[39;49m\u001b[43m)\u001b[49m\n",
      "File \u001b[1;32mc:\\Users\\32170336\\AppData\\Local\\Programs\\Python\\Python312\\Lib\\site-packages\\h2o\\frame.py:2342\u001b[0m, in \u001b[0;36mH2OFrame.drop\u001b[1;34m(self, index, axis)\u001b[0m\n\u001b[0;32m   2339\u001b[0m \u001b[38;5;28;01mif\u001b[39;00m is_type(index, \u001b[38;5;28mstr\u001b[39m):\n\u001b[0;32m   2340\u001b[0m     \u001b[38;5;66;03m# Check if index is an actual column(s) in the frame\u001b[39;00m\n\u001b[0;32m   2341\u001b[0m     \u001b[38;5;28;01mif\u001b[39;00m index \u001b[38;5;129;01mnot\u001b[39;00m \u001b[38;5;129;01min\u001b[39;00m \u001b[38;5;28mself\u001b[39m\u001b[38;5;241m.\u001b[39mnames:\n\u001b[1;32m-> 2342\u001b[0m         \u001b[38;5;28;01mraise\u001b[39;00m H2OValueError(\u001b[38;5;124m\"\u001b[39m\u001b[38;5;124mColumn(s) selected to drop are not in original frame: \u001b[39m\u001b[38;5;132;01m%r\u001b[39;00m\u001b[38;5;124m\"\u001b[39m \u001b[38;5;241m%\u001b[39m index)\n\u001b[0;32m   2343\u001b[0m     index \u001b[38;5;241m=\u001b[39m \u001b[38;5;28mself\u001b[39m\u001b[38;5;241m.\u001b[39mnames\u001b[38;5;241m.\u001b[39mindex(index)\n\u001b[0;32m   2344\u001b[0m \u001b[38;5;66;03m# If input is an int indicating a column index, i.e., 3:\u001b[39;00m\n",
      "\u001b[1;31mH2OValueError\u001b[0m: Column(s) selected to drop are not in original frame: 'ID'"
     ]
    }
   ],
   "source": [
    "# Set the target and predictors\n",
    "y = 'ECLO'\n",
    "x = train_h2o.columns\n",
    "print(x)\n",
    "x.remove(y)\n",
    "delete = ['Unnamed: 0', '사망자수', '중상자수', '경상자수', '부상자수']\n",
    "\n",
    "for i in delete:\n",
    "    x.remove(i)\n",
    "\n",
    "\n",
    "# For demonstration, assuming 'ID' column exists in the test dataset and needs to be removed\n",
    "test_h2o = test_h2o.drop('ID', axis=1)\n"
   ]
  },
  {
   "cell_type": "code",
   "execution_count": 12,
   "metadata": {},
   "outputs": [
    {
     "name": "stdout",
     "output_type": "stream",
     "text": [
      "AutoML progress: |█\n",
      "15:00:14.518: AutoML: XGBoost is not available; skipping it.\n",
      "\n",
      "██████████████████████████████████████████████████████████████| (done) 100%\n",
      "model_id                                                 rmse      mse      mae     rmsle    mean_residual_deviance\n",
      "GBM_grid_1_AutoML_1_20240226_150014_model_3           3.11545  9.70603  2.02406  0.434423                   9.70603\n",
      "GBM_2_AutoML_1_20240226_150014                        3.11559  9.70688  2.02355  0.434436                   9.70688\n",
      "GBM_5_AutoML_1_20240226_150014                        3.11572  9.70772  2.02451  0.434422                   9.70772\n",
      "GBM_grid_1_AutoML_1_20240226_150014_model_2           3.11596  9.70919  2.02539  0.434454                   9.70919\n",
      "GBM_3_AutoML_1_20240226_150014                        3.1175   9.71882  2.02512  0.4346                     9.71882\n",
      "GBM_4_AutoML_1_20240226_150014                        3.12313  9.75396  2.02797  0.435327                   9.75396\n",
      "DeepLearning_1_AutoML_1_20240226_150014               3.12481  9.76446  2.02413  0.434748                   9.76446\n",
      "GBM_1_AutoML_1_20240226_150014                        3.12663  9.77582  2.02899  0.435916                   9.77582\n",
      "DeepLearning_grid_1_AutoML_1_20240226_150014_model_1  3.13073  9.80149  2.01993  0.433878                   9.80149\n",
      "XRT_1_AutoML_1_20240226_150014                        3.13509  9.8288   2.02777  0.435467                   9.8288\n",
      "[15 rows x 6 columns]\n",
      "\n"
     ]
    }
   ],
   "source": [
    "# Initialize and run H2O AutoML\n",
    "aml = H2OAutoML(max_models=20, seed=1, max_runtime_secs=1000, stopping_metric='RMSE')\n",
    "aml.train(x=x, y=y, training_frame=train_h2o)\n",
    "\n",
    "# View the AutoML Leaderboard\n",
    "lb = aml.leaderboard\n",
    "print(lb)"
   ]
  },
  {
   "cell_type": "code",
   "execution_count": 13,
   "metadata": {},
   "outputs": [
    {
     "name": "stdout",
     "output_type": "stream",
     "text": [
      "gbm prediction progress: |███████████████████████████████████████████████████████| (done) 100%\n"
     ]
    },
    {
     "name": "stderr",
     "output_type": "stream",
     "text": [
      "c:\\Users\\32170336\\AppData\\Local\\Programs\\Python\\Python312\\Lib\\site-packages\\h2o\\frame.py:1979: H2ODependencyWarning: converting H2O frame to pandas dataframe using single-thread.  For faster conversion using multi-thread, install datatable (for Python 3.9 or lower), or polars and pyarrow (for Python 3.10 or above).\n",
      "  warnings.warn(\"converting H2O frame to pandas dataframe using single-thread.  For faster conversion using\"\n"
     ]
    },
    {
     "name": "stdout",
     "output_type": "stream",
     "text": [
      "    predict\n",
      "0  4.013062\n",
      "1  4.489311\n",
      "2  3.843454\n",
      "3  5.524245\n",
      "4  5.204374\n"
     ]
    }
   ],
   "source": [
    "# Generate predictions\n",
    "preds = aml.predict(test_h2o)\n",
    "h2o_predictions = preds.as_data_frame()\n",
    "print(h2o_predictions.head())"
   ]
  }
 ],
 "metadata": {
  "kernelspec": {
   "display_name": "Python 3",
   "language": "python",
   "name": "python3"
  },
  "language_info": {
   "codemirror_mode": {
    "name": "ipython",
    "version": 3
   },
   "file_extension": ".py",
   "mimetype": "text/x-python",
   "name": "python",
   "nbconvert_exporter": "python",
   "pygments_lexer": "ipython3",
   "version": "3.12.2"
  }
 },
 "nbformat": 4,
 "nbformat_minor": 2
}
