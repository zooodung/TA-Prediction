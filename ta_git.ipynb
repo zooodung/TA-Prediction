{
  "cells": [
    {
      "cell_type": "markdown",
      "metadata": {
        "colab_type": "text",
        "id": "view-in-github"
      },
      "source": [
        "<a href=\"https://colab.research.google.com/github/zooodung/TA-Prediction/blob/115dkk/ta_git.ipynb\" target=\"_parent\"><img src=\"https://colab.research.google.com/assets/colab-badge.svg\" alt=\"Open In Colab\"/></a>"
      ]
    },
    {
      "cell_type": "code",
      "execution_count": 13,
      "metadata": {
        "id": "s2C5C3-6Fl-t"
      },
      "outputs": [],
      "source": [
        "!git config --global user.email 'qjrzbasd@naver.com'\n",
        "!git config --global user.name '115dkk'"
      ]
    },
    {
      "cell_type": "code",
      "execution_count": 7,
      "metadata": {
        "colab": {
          "base_uri": "https://localhost:8080/"
        },
        "id": "QmnAPdEdFsf_",
        "outputId": "a388200b-1ac8-484d-98c6-afea0fdfb7d7"
      },
      "outputs": [
        {
          "name": "stdout",
          "output_type": "stream",
          "text": [
            "Refresh index: 100% (3/3)\rRefresh index: 100% (3/3), done.\n",
            "On branch 115dkkwork\n",
            "Your branch is up to date with 'origin/115dkkwork'.\n",
            "\n",
            "Changes not staged for commit:\n",
            "  (use \"git add <file>...\" to update what will be committed)\n",
            "  (use \"git restore <file>...\" to discard changes in working directory)\n",
            "\t\u001b[31mmodified:   ta_115dkk.ipynb\u001b[m\n",
            "\n",
            "Untracked files:\n",
            "  (use \"git add <file>...\" to include in what will be committed)\n",
            "\t\u001b[31mta_git.ipynb\u001b[m\n",
            "\n",
            "no changes added to commit (use \"git add\" and/or \"git commit -a\")\n"
          ]
        }
      ],
      "source": [
        "!git status"
      ]
    },
    {
      "cell_type": "code",
      "execution_count": 2,
      "metadata": {
        "id": "s6pbUSMzFs3h"
      },
      "outputs": [
        {
          "name": "stdout",
          "output_type": "stream",
          "text": [
            "Requirement already satisfied: pandas in c:\\users\\hightech\\appdata\\local\\programs\\python\\python312\\lib\\site-packages (2.2.1)\n",
            "Requirement already satisfied: seaborn in c:\\users\\hightech\\appdata\\local\\programs\\python\\python312\\lib\\site-packages (0.13.2)\n",
            "Requirement already satisfied: numpy in c:\\users\\hightech\\appdata\\local\\programs\\python\\python312\\lib\\site-packages (1.26.4)\n",
            "Requirement already satisfied: matplotlib in c:\\users\\hightech\\appdata\\local\\programs\\python\\python312\\lib\\site-packages (3.8.3)\n",
            "Requirement already satisfied: scikit-learn in c:\\users\\hightech\\appdata\\local\\programs\\python\\python312\\lib\\site-packages (1.4.1.post1)\n",
            "Requirement already satisfied: torch in c:\\users\\hightech\\appdata\\local\\programs\\python\\python312\\lib\\site-packages (2.2.1)\n",
            "Requirement already satisfied: keras in c:\\users\\hightech\\appdata\\local\\programs\\python\\python312\\lib\\site-packages (3.0.5)\n",
            "Requirement already satisfied: xgboost in c:\\users\\hightech\\appdata\\local\\programs\\python\\python312\\lib\\site-packages (2.0.3)\n",
            "Requirement already satisfied: lightgbm in c:\\users\\hightech\\appdata\\local\\programs\\python\\python312\\lib\\site-packages (4.3.0)\n",
            "Requirement already satisfied: catboost in c:\\users\\hightech\\appdata\\local\\programs\\python\\python312\\lib\\site-packages (1.2.3)\n",
            "Requirement already satisfied: flaml in c:\\users\\hightech\\appdata\\local\\programs\\python\\python312\\lib\\site-packages (2.1.1)\n",
            "Requirement already satisfied: h2o in c:\\users\\hightech\\appdata\\local\\programs\\python\\python312\\lib\\site-packages (3.44.0.3)\n",
            "Collecting polars\n",
            "  Downloading polars-0.20.10-cp38-abi3-win_amd64.whl.metadata (15 kB)\n",
            "Collecting pyarrow\n",
            "  Downloading pyarrow-15.0.0-cp312-cp312-win_amd64.whl.metadata (3.1 kB)\n",
            "Requirement already satisfied: python-dateutil>=2.8.2 in c:\\users\\hightech\\appdata\\local\\programs\\python\\python312\\lib\\site-packages (from pandas) (2.8.2)\n",
            "Requirement already satisfied: pytz>=2020.1 in c:\\users\\hightech\\appdata\\local\\programs\\python\\python312\\lib\\site-packages (from pandas) (2024.1)\n",
            "Requirement already satisfied: tzdata>=2022.7 in c:\\users\\hightech\\appdata\\local\\programs\\python\\python312\\lib\\site-packages (from pandas) (2024.1)\n",
            "Requirement already satisfied: contourpy>=1.0.1 in c:\\users\\hightech\\appdata\\local\\programs\\python\\python312\\lib\\site-packages (from matplotlib) (1.2.0)\n",
            "Requirement already satisfied: cycler>=0.10 in c:\\users\\hightech\\appdata\\local\\programs\\python\\python312\\lib\\site-packages (from matplotlib) (0.12.1)\n",
            "Requirement already satisfied: fonttools>=4.22.0 in c:\\users\\hightech\\appdata\\local\\programs\\python\\python312\\lib\\site-packages (from matplotlib) (4.49.0)\n",
            "Requirement already satisfied: kiwisolver>=1.3.1 in c:\\users\\hightech\\appdata\\local\\programs\\python\\python312\\lib\\site-packages (from matplotlib) (1.4.5)\n",
            "Requirement already satisfied: packaging>=20.0 in c:\\users\\hightech\\appdata\\local\\programs\\python\\python312\\lib\\site-packages (from matplotlib) (23.2)\n",
            "Requirement already satisfied: pillow>=8 in c:\\users\\hightech\\appdata\\local\\programs\\python\\python312\\lib\\site-packages (from matplotlib) (10.2.0)\n",
            "Requirement already satisfied: pyparsing>=2.3.1 in c:\\users\\hightech\\appdata\\local\\programs\\python\\python312\\lib\\site-packages (from matplotlib) (3.1.1)\n",
            "Requirement already satisfied: scipy>=1.6.0 in c:\\users\\hightech\\appdata\\local\\programs\\python\\python312\\lib\\site-packages (from scikit-learn) (1.12.0)\n",
            "Requirement already satisfied: joblib>=1.2.0 in c:\\users\\hightech\\appdata\\local\\programs\\python\\python312\\lib\\site-packages (from scikit-learn) (1.3.2)\n",
            "Requirement already satisfied: threadpoolctl>=2.0.0 in c:\\users\\hightech\\appdata\\local\\programs\\python\\python312\\lib\\site-packages (from scikit-learn) (3.3.0)\n",
            "Requirement already satisfied: filelock in c:\\users\\hightech\\appdata\\local\\programs\\python\\python312\\lib\\site-packages (from torch) (3.13.1)\n",
            "Requirement already satisfied: typing-extensions>=4.8.0 in c:\\users\\hightech\\appdata\\local\\programs\\python\\python312\\lib\\site-packages (from torch) (4.10.0)\n",
            "Requirement already satisfied: sympy in c:\\users\\hightech\\appdata\\local\\programs\\python\\python312\\lib\\site-packages (from torch) (1.12)\n",
            "Requirement already satisfied: networkx in c:\\users\\hightech\\appdata\\local\\programs\\python\\python312\\lib\\site-packages (from torch) (3.2.1)\n",
            "Requirement already satisfied: jinja2 in c:\\users\\hightech\\appdata\\local\\programs\\python\\python312\\lib\\site-packages (from torch) (3.1.3)\n",
            "Requirement already satisfied: fsspec in c:\\users\\hightech\\appdata\\local\\programs\\python\\python312\\lib\\site-packages (from torch) (2024.2.0)\n",
            "Requirement already satisfied: absl-py in c:\\users\\hightech\\appdata\\local\\programs\\python\\python312\\lib\\site-packages (from keras) (2.1.0)\n",
            "Requirement already satisfied: rich in c:\\users\\hightech\\appdata\\local\\programs\\python\\python312\\lib\\site-packages (from keras) (13.7.0)\n",
            "Requirement already satisfied: namex in c:\\users\\hightech\\appdata\\local\\programs\\python\\python312\\lib\\site-packages (from keras) (0.0.7)\n",
            "Requirement already satisfied: h5py in c:\\users\\hightech\\appdata\\local\\programs\\python\\python312\\lib\\site-packages (from keras) (3.10.0)\n",
            "Requirement already satisfied: dm-tree in c:\\users\\hightech\\appdata\\local\\programs\\python\\python312\\lib\\site-packages (from keras) (0.1.8)\n",
            "Requirement already satisfied: ml-dtypes in c:\\users\\hightech\\appdata\\local\\programs\\python\\python312\\lib\\site-packages (from keras) (0.3.2)\n",
            "Requirement already satisfied: graphviz in c:\\users\\hightech\\appdata\\local\\programs\\python\\python312\\lib\\site-packages (from catboost) (0.20.1)\n",
            "Requirement already satisfied: plotly in c:\\users\\hightech\\appdata\\local\\programs\\python\\python312\\lib\\site-packages (from catboost) (5.19.0)\n",
            "Requirement already satisfied: six in c:\\users\\hightech\\appdata\\local\\programs\\python\\python312\\lib\\site-packages (from catboost) (1.16.0)\n",
            "Requirement already satisfied: requests in c:\\users\\hightech\\appdata\\local\\programs\\python\\python312\\lib\\site-packages (from h2o) (2.31.0)\n",
            "Requirement already satisfied: tabulate in c:\\users\\hightech\\appdata\\local\\programs\\python\\python312\\lib\\site-packages (from h2o) (0.9.0)\n",
            "Requirement already satisfied: MarkupSafe>=2.0 in c:\\users\\hightech\\appdata\\local\\programs\\python\\python312\\lib\\site-packages (from jinja2->torch) (2.1.5)\n",
            "Requirement already satisfied: tenacity>=6.2.0 in c:\\users\\hightech\\appdata\\local\\programs\\python\\python312\\lib\\site-packages (from plotly->catboost) (8.2.3)\n",
            "Requirement already satisfied: charset-normalizer<4,>=2 in c:\\users\\hightech\\appdata\\local\\programs\\python\\python312\\lib\\site-packages (from requests->h2o) (3.3.2)\n",
            "Requirement already satisfied: idna<4,>=2.5 in c:\\users\\hightech\\appdata\\local\\programs\\python\\python312\\lib\\site-packages (from requests->h2o) (3.6)\n",
            "Requirement already satisfied: urllib3<3,>=1.21.1 in c:\\users\\hightech\\appdata\\local\\programs\\python\\python312\\lib\\site-packages (from requests->h2o) (2.2.1)\n",
            "Requirement already satisfied: certifi>=2017.4.17 in c:\\users\\hightech\\appdata\\local\\programs\\python\\python312\\lib\\site-packages (from requests->h2o) (2024.2.2)\n",
            "Requirement already satisfied: markdown-it-py>=2.2.0 in c:\\users\\hightech\\appdata\\local\\programs\\python\\python312\\lib\\site-packages (from rich->keras) (3.0.0)\n",
            "Requirement already satisfied: pygments<3.0.0,>=2.13.0 in c:\\users\\hightech\\appdata\\local\\programs\\python\\python312\\lib\\site-packages (from rich->keras) (2.17.2)\n",
            "Requirement already satisfied: mpmath>=0.19 in c:\\users\\hightech\\appdata\\local\\programs\\python\\python312\\lib\\site-packages (from sympy->torch) (1.3.0)\n",
            "Requirement already satisfied: mdurl~=0.1 in c:\\users\\hightech\\appdata\\local\\programs\\python\\python312\\lib\\site-packages (from markdown-it-py>=2.2.0->rich->keras) (0.1.2)\n",
            "Downloading polars-0.20.10-cp38-abi3-win_amd64.whl (25.8 MB)\n",
            "   ---------------------------------------- 0.0/25.8 MB ? eta -:--:--\n",
            "   ---------------------------------------- 0.2/25.8 MB 4.8 MB/s eta 0:00:06\n",
            "    --------------------------------------- 0.5/25.8 MB 6.5 MB/s eta 0:00:04\n",
            "   - -------------------------------------- 0.7/25.8 MB 5.2 MB/s eta 0:00:05\n",
            "   - -------------------------------------- 0.9/25.8 MB 5.1 MB/s eta 0:00:05\n",
            "   -- ------------------------------------- 1.6/25.8 MB 7.3 MB/s eta 0:00:04\n",
            "   ---- ----------------------------------- 2.8/25.8 MB 10.5 MB/s eta 0:00:03\n",
            "   ------- -------------------------------- 4.6/25.8 MB 14.6 MB/s eta 0:00:02\n",
            "   ---------- ----------------------------- 6.6/25.8 MB 18.3 MB/s eta 0:00:02\n",
            "   ----------- ---------------------------- 7.3/25.8 MB 19.5 MB/s eta 0:00:01\n",
            "   ----------- ---------------------------- 7.3/25.8 MB 19.5 MB/s eta 0:00:01\n",
            "   ----------- ---------------------------- 7.3/25.8 MB 19.5 MB/s eta 0:00:01\n",
            "   ----------- ---------------------------- 7.3/25.8 MB 19.5 MB/s eta 0:00:01\n",
            "   ------------ --------------------------- 8.1/25.8 MB 13.5 MB/s eta 0:00:02\n",
            "   ------------- -------------------------- 8.4/25.8 MB 13.7 MB/s eta 0:00:02\n",
            "   ------------- -------------------------- 8.4/25.8 MB 13.7 MB/s eta 0:00:02\n",
            "   ------------- -------------------------- 8.4/25.8 MB 13.7 MB/s eta 0:00:02\n",
            "   ------------- -------------------------- 8.4/25.8 MB 10.8 MB/s eta 0:00:02\n",
            "   -------------- ------------------------- 9.4/25.8 MB 11.6 MB/s eta 0:00:02\n",
            "   -------------- ------------------------- 9.4/25.8 MB 11.6 MB/s eta 0:00:02\n",
            "   ---------------- ----------------------- 10.5/25.8 MB 11.5 MB/s eta 0:00:02\n",
            "   ---------------- ----------------------- 10.5/25.8 MB 11.5 MB/s eta 0:00:02\n",
            "   ---------------- ----------------------- 10.5/25.8 MB 11.5 MB/s eta 0:00:02\n",
            "   ---------------- ----------------------- 10.5/25.8 MB 11.5 MB/s eta 0:00:02\n",
            "   ----------------- ---------------------- 11.5/25.8 MB 11.1 MB/s eta 0:00:02\n",
            "   -------------------- ------------------- 13.4/25.8 MB 11.5 MB/s eta 0:00:02\n",
            "   ----------------------- ---------------- 15.4/25.8 MB 11.5 MB/s eta 0:00:01\n",
            "   -------------------------- ------------- 17.3/25.8 MB 11.5 MB/s eta 0:00:01\n",
            "   ----------------------------- ---------- 19.1/25.8 MB 19.8 MB/s eta 0:00:01\n",
            "   -------------------------------- ------- 21.0/25.8 MB 40.9 MB/s eta 0:00:01\n",
            "   ----------------------------------- ---- 23.0/25.8 MB 40.9 MB/s eta 0:00:01\n",
            "   -------------------------------------- - 24.9/25.8 MB 40.9 MB/s eta 0:00:01\n",
            "   ---------------------------------------- 25.8/25.8 MB 36.4 MB/s eta 0:00:00\n",
            "Downloading pyarrow-15.0.0-cp312-cp312-win_amd64.whl (25.3 MB)\n",
            "   ---------------------------------------- 0.0/25.3 MB ? eta -:--:--\n",
            "   -- ------------------------------------- 1.7/25.3 MB 55.8 MB/s eta 0:00:01\n",
            "   ----- ---------------------------------- 3.5/25.3 MB 44.9 MB/s eta 0:00:01\n",
            "   -------- ------------------------------- 5.5/25.3 MB 43.6 MB/s eta 0:00:01\n",
            "   ----------- ---------------------------- 7.3/25.3 MB 42.6 MB/s eta 0:00:01\n",
            "   -------------- ------------------------- 9.3/25.3 MB 42.3 MB/s eta 0:00:01\n",
            "   ----------------- ---------------------- 11.2/25.3 MB 40.9 MB/s eta 0:00:01\n",
            "   -------------------- ------------------- 13.1/25.3 MB 40.9 MB/s eta 0:00:01\n",
            "   ----------------------- ---------------- 15.0/25.3 MB 40.9 MB/s eta 0:00:01\n",
            "   -------------------------- ------------- 16.8/25.3 MB 40.9 MB/s eta 0:00:01\n",
            "   ----------------------------- ---------- 18.7/25.3 MB 40.9 MB/s eta 0:00:01\n",
            "   -------------------------------- ------- 20.6/25.3 MB 40.9 MB/s eta 0:00:01\n",
            "   ----------------------------------- ---- 22.5/25.3 MB 40.9 MB/s eta 0:00:01\n",
            "   -------------------------------------- - 24.5/25.3 MB 40.9 MB/s eta 0:00:01\n",
            "   ---------------------------------------- 25.3/25.3 MB 36.2 MB/s eta 0:00:00\n",
            "Installing collected packages: pyarrow, polars\n",
            "Successfully installed polars-0.20.10 pyarrow-15.0.0\n",
            "Note: you may need to restart the kernel to use updated packages.\n"
          ]
        }
      ],
      "source": [
        "%pip install --upgrade pandas seaborn numpy matplotlib scikit-learn torch keras xgboost lightgbm catboost flaml h2o polars pyarrow"
      ]
    }
  ],
  "metadata": {
    "colab": {
      "authorship_tag": "ABX9TyPlnY44DT73LCFgHBgG/WMh",
      "include_colab_link": true,
      "mount_file_id": "13qr1xvpK0G3HHYSALm5CTGlnzbPBz9Gh",
      "provenance": []
    },
    "kernelspec": {
      "display_name": "Python 3",
      "name": "python3"
    },
    "language_info": {
      "codemirror_mode": {
        "name": "ipython",
        "version": 3
      },
      "file_extension": ".py",
      "mimetype": "text/x-python",
      "name": "python",
      "nbconvert_exporter": "python",
      "pygments_lexer": "ipython3",
      "version": "3.12.2"
    }
  },
  "nbformat": 4,
  "nbformat_minor": 0
}
